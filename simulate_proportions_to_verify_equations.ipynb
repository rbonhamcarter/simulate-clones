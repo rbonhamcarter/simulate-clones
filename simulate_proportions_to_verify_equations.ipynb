{
 "cells": [
  {
   "cell_type": "markdown",
   "id": "hungarian-quarter",
   "metadata": {},
   "source": [
    "# Exploration for commentary on the effect on proportions of cell type A and B in sampled multi-time clones"
   ]
  },
  {
   "cell_type": "code",
   "execution_count": 4,
   "id": "hearing-dispute",
   "metadata": {},
   "outputs": [],
   "source": [
    "import numpy as np\n",
    "import pandas as pd\n",
    "import scanpy as sc\n",
    "import matplotlib.pyplot as plt\n",
    "from matplotlib.lines import Line2D\n",
    "import ipywidgets as widgets\n",
    "import anndata\n",
    "import os\n",
    "import scipy\n",
    "import copy\n",
    "import matplotlib\n",
    "import random\n",
    "import math\n",
    "import itertools"
   ]
  },
  {
   "cell_type": "markdown",
   "id": "radio-venezuela",
   "metadata": {},
   "source": [
    "## Generate the simulated data"
   ]
  },
  {
   "cell_type": "code",
   "execution_count": 5,
   "id": "administrative-contribution",
   "metadata": {
    "code_folding": []
   },
   "outputs": [],
   "source": [
    "# Basic parameters of the system\n",
    "t1 = 0\n",
    "t2 = 1\n",
    "n_simulations = 10\n",
    "cell_types = ['A', 'B']\n",
    "growth_rates = {'A': 1, 'B': 2}\n",
    "n_cells_in_clones_at_t1 = {'A': 2, 'B': 4}"
   ]
  },
  {
   "cell_type": "code",
   "execution_count": 6,
   "id": "initial-stupid",
   "metadata": {
    "code_folding": []
   },
   "outputs": [],
   "source": [
    "# Count the number of cells in all sets of interest for the computations below\n",
    "n_cells_t1_in_types = {'A': 1000, 'B': 1000}\n",
    "n_cells_t2_in_types = {}\n",
    "n_cells_in_types = {}\n",
    "n_clones_in_types = {}\n",
    "n_cells_in_clones_at_t2 = {}\n",
    "n_cells_in_clones = {}\n",
    "for t in cell_types:\n",
    "    n_cells_t2_in_types[t] = growth_rates[t]*n_cells_t1_in_types[t]\n",
    "    n_cells_in_clones_at_t2[t] = growth_rates[t]*n_cells_in_clones_at_t1[t]\n",
    "    \n",
    "    assert  n_cells_t1_in_types[t] % n_cells_in_clones_at_t1[t] == 0\n",
    "    n_clones_in_types[t] = n_cells_t1_in_types[t]//n_cells_in_clones_at_t1[t]\n",
    "    \n",
    "    assert n_cells_in_clones_at_t2[t]*n_clones_in_types[t] == n_cells_t2_in_types[t]\n",
    "\n",
    "    n_cells_in_clones[t] = n_cells_in_clones_at_t1[t] + n_cells_in_clones_at_t2[t]\n",
    "    n_cells_in_types[t] = n_cells_t1_in_types[t] + n_cells_t2_in_types[t]\n",
    "    \n",
    "n_clones =  np.sum(list(n_clones_in_types.values()))\n",
    "n_cells_t1 = np.sum(list(n_cells_t1_in_types.values()))\n",
    "n_cells_t2 = np.sum(list(n_cells_t2_in_types.values()))\n",
    "n_cells_total = np.sum(list(n_cells_t1_in_types.values())) + np.sum(list(n_cells_t2_in_types.values()))"
   ]
  },
  {
   "cell_type": "code",
   "execution_count": 7,
   "id": "piano-swift",
   "metadata": {
    "code_folding": [
     0
    ]
   },
   "outputs": [],
   "source": [
    "# Generate annotations (ids, order, type) for the cells\n",
    "cell_ids = []\n",
    "cell_order = []\n",
    "cell_type = []\n",
    "for c in cell_types:\n",
    "    for i in range(n_cells_t1_in_types[c]):\n",
    "        cell_ids.append(c + '_' + str(i))\n",
    "        cell_order.append(t1)\n",
    "        cell_type.append(c)\n",
    "    for j in range(n_cells_t2_in_types[c]):\n",
    "        cell_ids.append(c + '_' + str(j + n_cells_t1_in_types[c]))\n",
    "        cell_order.append(t2)\n",
    "        cell_type.append('AB')"
   ]
  },
  {
   "cell_type": "code",
   "execution_count": 8,
   "id": "unexpected-infrastructure",
   "metadata": {
    "code_folding": [
     0
    ]
   },
   "outputs": [],
   "source": [
    "# Generate clone labels\n",
    "clone_labels = {}\n",
    "clone_labels_for_t1_cells = {}\n",
    "clone_labels_for_t2_cells = {}\n",
    "for t in cell_types:\n",
    "    clone_labels[t] = ['clone_' + t + '_' + str(i) for i in range(n_clones_in_types[t])]\n",
    "    clone_labels_for_t1_cells[t] = []\n",
    "    clone_labels_for_t2_cells[t] = []\n",
    "    for i in range(n_clones_in_types[t]):\n",
    "        for j in range(n_cells_in_clones_at_t1[t]):\n",
    "            clone_labels_for_t1_cells[t].append(clone_labels[t][i])\n",
    "        for k in range(n_cells_in_clones_at_t2[t]):\n",
    "            clone_labels_for_t2_cells[t].append(clone_labels[t][i])\n",
    "            \n",
    "    assert len(clone_labels_for_t1_cells[t]) == n_cells_t1_in_types[t]\n",
    "    assert len(clone_labels_for_t2_cells[t]) == n_cells_t2_in_types[t]"
   ]
  },
  {
   "cell_type": "code",
   "execution_count": 9,
   "id": "therapeutic-commodity",
   "metadata": {
    "code_folding": [
     0
    ]
   },
   "outputs": [],
   "source": [
    "# Create an cell by clone matrix (clone membership matrix)  \n",
    "X_clones = {} \n",
    "for c in cell_types:\n",
    "    X_clones[c] = np.zeros((n_cells_total, n_clones_in_types[c]))\n",
    "\n",
    "m = 0\n",
    "for c in cell_types:\n",
    "    for i in range(n_cells_t1_in_types[c]):\n",
    "        clone_label = clone_labels_for_t1_cells[c][i]\n",
    "        _, t, k = clone_label.split('_')\n",
    "        assert t == c\n",
    "        X_clones[c][m, int(k)] = 1\n",
    "        m += 1\n",
    "        \n",
    "    for j in range(n_cells_t2_in_types[c]):\n",
    "        clone_label = clone_labels_for_t2_cells[c][j]\n",
    "        _, t, k = clone_label.split('_')\n",
    "        assert t == c\n",
    "        X_clones[c][m, int(k)] = 1\n",
    "        m += 1\n",
    "        \n",
    "X_clone = np.concatenate([X_clones[c] for c in cell_types], axis=1)\n",
    "assert np.all(np.sum(X_clone, axis=1) == 1), \"At least one cell is assigned to more than one clone.\"\n",
    "clone_totals = np.concatenate([n_cells_in_clones[t]*np.ones(n_clones_in_types[t]) for t in cell_types])\n",
    "assert np.all(np.sum(X_clone, axis=0) == clone_totals), \"Number of cells in each clone is incorrect.\""
   ]
  },
  {
   "cell_type": "code",
   "execution_count": 10,
   "id": "endless-deployment",
   "metadata": {
    "code_folding": [
     0
    ]
   },
   "outputs": [
    {
     "name": "stderr",
     "output_type": "stream",
     "text": [
      "/home/becca/anaconda3/envs/clone-validation/lib/python3.7/site-packages/ipykernel_launcher.py:3: FutureWarning: X.dtype being converted to np.float32 from float64. In the next version of anndata (0.9) conversion will not be automatic. Pass dtype explicitly to avoid this warning. Pass `AnnData(X, dtype=X.dtype, ...)` to get the future behavour.\n",
      "  This is separate from the ipykernel package so we can avoid doing imports until\n"
     ]
    },
    {
     "data": {
      "text/plain": [
       "AnnData object with n_obs × n_vars = 5000 × 750\n",
       "    obs: 'time_info', 'state_info'\n",
       "    obsm: 'X_clone'"
      ]
     },
     "execution_count": 10,
     "metadata": {},
     "output_type": "execute_result"
    }
   ],
   "source": [
    "# Store the simulated data in an anndata object\n",
    "obs = pd.DataFrame({'time_info': cell_order, 'state_info': cell_type}, index=cell_ids)\n",
    "adata = anndata.AnnData(X=X_clone, obs=obs)\n",
    "adata.obsm['X_clone'] = X_clone\n",
    "adata"
   ]
  },
  {
   "cell_type": "code",
   "execution_count": 11,
   "id": "according-christopher",
   "metadata": {
    "code_folding": [
     0
    ]
   },
   "outputs": [],
   "source": [
    "# Assign colors by cell type for plotting\n",
    "celltype_color = {'A': 'tab:green',\n",
    "                  'B': 'tab:red',\n",
    "                  'AB': 'tab:blue'}\n",
    "\n",
    "\n",
    "# Create the legend for the color dictionary\n",
    "def lineage_elem(lin, color_dict):\n",
    "    return Line2D([0], [0], marker='o', color='w', label=lin, markerfacecolor=color_dict[lin], markersize=10)\n",
    "\n",
    "celltype_legend_handles = [lineage_elem(lin, celltype_color) for lin in celltype_color.keys()]\n",
    "adata.obs['celltype_color'] = adata.obs['state_info'].apply(lambda x: celltype_color[x])"
   ]
  },
  {
   "cell_type": "code",
   "execution_count": 12,
   "id": "overhead-square",
   "metadata": {},
   "outputs": [],
   "source": [
    "plt.rcParams.update({'font.size': 20})"
   ]
  },
  {
   "cell_type": "markdown",
   "id": "bound-ballet",
   "metadata": {},
   "source": [
    "## Sample, restrict to multi-time clones, and plot cell type proportions"
   ]
  },
  {
   "cell_type": "code",
   "execution_count": 13,
   "id": "streaming-relations",
   "metadata": {
    "code_folding": [
     0
    ]
   },
   "outputs": [],
   "source": [
    "# Define functions for the sampling process\n",
    "def randomly_sample_timepoints(adata, times, rate):\n",
    "    sampled_adata = []\n",
    "    for t in times:\n",
    "        adata_t = adata[adata.obs.time_info == t]\n",
    "        n_cells_t = adata_t.n_obs\n",
    "        idx_sampled_at_t = random.sample(range(n_cells_t), k=int(n_cells_t*rate))\n",
    "        \n",
    "        sampled_adata.append(adata_t[idx_sampled_at_t])\n",
    "        \n",
    "    return anndata.concat(sampled_adata)\n",
    "\n",
    "\n",
    "def retain_multitime_only(adata, times, clone_idx):\n",
    "    clone_sets = []\n",
    "    for t in times:\n",
    "        adata_t = adata[adata.obs.time_info == t]\n",
    "        clones_at_t = list(np.where(np.sum(adata_t.obsm['X_clone'], axis=0) != 0)[0])\n",
    "        clone_sets.append(set(clones_at_t))\n",
    "    \n",
    "    multitime_clones = clone_sets[0]\n",
    "    for i in range(1, len(clone_sets)):\n",
    "        multitime_clones = multitime_clones.intersection(clone_sets[i])\n",
    "        \n",
    "    multitime_mask = [i in multitime_clones for i in clone_idx]\n",
    "    multitime = adata[np.sum(adata.obsm['X_clone'][:, multitime_mask], axis=1) != 0]\n",
    "    return multitime\n",
    "        "
   ]
  },
  {
   "cell_type": "code",
   "execution_count": 14,
   "id": "interesting-train",
   "metadata": {},
   "outputs": [
    {
     "data": {
      "text/plain": [
       "array([1.  , 0.97, 0.93, 0.9 , 0.86, 0.83, 0.8 , 0.76, 0.73, 0.69, 0.66,\n",
       "       0.62, 0.59, 0.56, 0.52, 0.49, 0.45, 0.42, 0.39, 0.35, 0.32, 0.28,\n",
       "       0.25, 0.21, 0.18, 0.15, 0.11, 0.08, 0.04, 0.01])"
      ]
     },
     "execution_count": 14,
     "metadata": {},
     "output_type": "execute_result"
    }
   ],
   "source": [
    "np.round(np.linspace(0.01, 1.0, 30)[::-1], decimals=2)"
   ]
  },
  {
   "cell_type": "code",
   "execution_count": 15,
   "id": "amazing-chicago",
   "metadata": {},
   "outputs": [
    {
     "data": {
      "text/plain": [
       "array([ 0,  2,  4,  6,  8, 10, 12, 14, 16, 18])"
      ]
     },
     "execution_count": 15,
     "metadata": {},
     "output_type": "execute_result"
    }
   ],
   "source": [
    "np.arange(20, step=2)"
   ]
  },
  {
   "cell_type": "code",
   "execution_count": null,
   "id": "federal-variance",
   "metadata": {
    "code_folding": [
     0
    ]
   },
   "outputs": [],
   "source": [
    "# Run the simulations and plot the results\n",
    "sampling_rates = np.round(np.linspace(0.01, 1.0, 30)[::-1], decimals=2)\n",
    "times = [t1, t2]\n",
    "clone_idx = range(n_clones)\n",
    "\n",
    "fig = plt.figure(figsize=(12,6))\n",
    "fig.tight_layout()\n",
    "for x in range(n_simulations):\n",
    "    # Sample randomly at both timepoints\n",
    "    randomly_sampled = {}\n",
    "    sampled_adatas = {}\n",
    "    for r in sampling_rates:\n",
    "        temp_random = randomly_sample_timepoints(adata, times, r)\n",
    "        k = str(np.round(r*100, decimals=0))\n",
    "        randomly_sampled[k] = temp_random\n",
    "        sampled_adatas[k] = retain_multitime_only(temp_random, times, clone_idx)\n",
    "        \n",
    "    # Create a cell census dataframe for the two timepoints\n",
    "    census_dfs = {}\n",
    "    for r in sampling_rates:\n",
    "        k = str(np.round(r*100, decimals=0))\n",
    "#         print(\"\\n For sampling rate = {}\".format(k))\n",
    "        census_dfs[k] = pd.DataFrame({'A': [],'B': [], 'AB': []})\n",
    "\n",
    "        for t in [t1, t2]:\n",
    "            data = sampled_adatas[k].obs[sampled_adatas[k].obs.time_info == t]\n",
    "            if data.shape[0] == 0:\n",
    "                census_dfs[k] = census_dfs[k].append({'time_info': t, \n",
    "                                          'A': 0, \n",
    "                                          'B': 0, \n",
    "                                          'AB': 0},   \n",
    "                                        ignore_index = True)\n",
    "            else:\n",
    "                census_dfs[k] = census_dfs[k].append({'time_info': t, \n",
    "                                              'A': data[data['state_info'] == 'A'].shape[0]/data.shape[0], \n",
    "                                              'B': data[data['state_info'] == 'B'].shape[0]/data.shape[0], \n",
    "                                              'AB': data[data['state_info'] == 'AB'].shape[0]/data.shape[0]},   \n",
    "                                            ignore_index = True)\n",
    "\n",
    "        census_dfs[k] = census_dfs[k].set_index('time_info')\n",
    "\n",
    "    # Plot how the sampling process affects the cell census\n",
    "#     plt.title(\"Cell type proportions at t1. \\n Params: \"\n",
    "#                + \"growth rates = {}, n cells in clones at t1 = {}, n cells in types at t1 = {}\".format(\n",
    "#                 growth_rates, n_cells_in_clones_at_t1, n_cells_t1_in_types))\n",
    "    cell_type_labels = ['A', 'B']\n",
    "\n",
    "\n",
    "    # Plotting the cell census changes\n",
    "    sample_keys = list(census_dfs.keys())\n",
    "    z_t1 = np.zeros((len(cell_types), len(sample_keys)))\n",
    "    z_t2 = np.zeros((len(cell_types), len(sample_keys)))\n",
    "    for i in range(len(sample_keys)):\n",
    "        k = sample_keys[i]\n",
    "        z_t1[:, i] = list(census_dfs[k].loc[t1][:-1])\n",
    "        z_t2[:, i] = list(census_dfs[k].loc[t2][:-1])\n",
    "\n",
    "   \n",
    "    # Compute the probability that a cell in a clone (i.e. with a specific growth rate) \n",
    "    # will retain multi-time clone info\n",
    "    p = np.zeros((len(cell_types), len(sample_keys)))\n",
    "    for i in range(len(cell_types)):\n",
    "        c = cell_types[i]\n",
    "        for j in range(len(sample_keys)):\n",
    "            r = sampling_rates[j]\n",
    "            p[i, j] = r*(1-(1-r)**(growth_rates[c]*n_cells_in_clones_at_t1[c]))\n",
    "\n",
    "\n",
    "    # Plot the probability that a cell with multitime info will be of a specific cell type\n",
    "    p_type = np.zeros((len(cell_types), len(sample_keys)))\n",
    "    for i in range(len(cell_types)):\n",
    "        c = cell_types[i]\n",
    "        p_type[i] = p[i]*n_cells_t1_in_types[c]/n_cells_t1\n",
    "\n",
    "\n",
    "    # Plot the probability that a cell will be in MT and of a specific cell type\n",
    "    p_type_given_MT = np.zeros((len(cell_types), len(sample_keys)))\n",
    "    for i in range(len(cell_types)):\n",
    "        for j in range(len(sample_keys)):\n",
    "            c = cell_types[i]\n",
    "            p_type_given_MT[i, j] = p_type[i, j]/np.sum(p_type[:,j])\n",
    "\n",
    "        \n",
    "    if x == n_simulations-1:\n",
    "        for i in range(len(cell_type_labels)):\n",
    "            t = cell_type_labels[i]\n",
    "            plt.plot(z_t1[i], label=cell_type_labels[i] + ' simulated', \n",
    "                     color=celltype_color[t], alpha=0.5, marker='x', linestyle='')\n",
    "\n",
    "        plt.ylabel(\"Proportion of population\")\n",
    "        plt.xlabel(\"Sampling rate (%)\")\n",
    "        locs, labels = plt.xticks()  # Get the current locations and labels.\n",
    "        labels = [str(int(eval(i))) for i in sample_keys]\n",
    "        plt.xticks(np.arange(30, step=3), labels[::3])  # Set text labels.\n",
    "        plt.xlim((0, 30))\n",
    "        \n",
    "        for i in range(len(cell_types)):\n",
    "            c = cell_types[i]\n",
    "            plt.plot(p_type_given_MT[i], label=c + ' predicted', color=celltype_color[c], ls=\"--\")\n",
    "    else:\n",
    "        for i in range(len(cell_type_labels)):\n",
    "            t = cell_type_labels[i]\n",
    "            plt.plot(z_t1[i], color=celltype_color[t], alpha=0.1, marker='x', linestyle='')\n",
    "        \n",
    "        for i in range(len(cell_types)):\n",
    "            c = cell_types[i]\n",
    "            plt.plot(p_type_given_MT[i], color=celltype_color[c], ls=\"--\")     \n",
    "\n",
    "plt.legend(loc='upper left')\n",
    "plt.show()"
   ]
  },
  {
   "cell_type": "code",
   "execution_count": null,
   "id": "endangered-wrestling",
   "metadata": {},
   "outputs": [],
   "source": []
  }
 ],
 "metadata": {
  "hide_input": false,
  "kernelspec": {
   "display_name": "Python 3 (ipykernel)",
   "language": "python",
   "name": "python3"
  },
  "language_info": {
   "codemirror_mode": {
    "name": "ipython",
    "version": 3
   },
   "file_extension": ".py",
   "mimetype": "text/x-python",
   "name": "python",
   "nbconvert_exporter": "python",
   "pygments_lexer": "ipython3",
   "version": "3.7.9"
  }
 },
 "nbformat": 4,
 "nbformat_minor": 5
}
